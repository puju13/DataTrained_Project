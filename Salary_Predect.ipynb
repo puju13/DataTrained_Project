{
 "cells": [
  {
   "cell_type": "code",
   "execution_count": 44,
   "id": "605f5925",
   "metadata": {},
   "outputs": [],
   "source": [
    "import pandas as pd\n",
    "import numpy as np\n",
    "import matplotlib.pyplot as plt\n",
    "from sklearn.model_selection import train_test_split\n",
    "from sklearn.linear_model import LinearRegression\n",
    "from sklearn import metrics"
   ]
  },
  {
   "cell_type": "code",
   "execution_count": 10,
   "id": "701ae0b5",
   "metadata": {},
   "outputs": [],
   "source": [
    "dataset=pd.read_csv('https://raw.githubusercontent.com/dsrscientist/dataset3/main/Salaries.csv')"
   ]
  },
  {
   "cell_type": "code",
   "execution_count": 11,
   "id": "f7e1efcd",
   "metadata": {},
   "outputs": [
    {
     "data": {
      "text/html": [
       "<div>\n",
       "<style scoped>\n",
       "    .dataframe tbody tr th:only-of-type {\n",
       "        vertical-align: middle;\n",
       "    }\n",
       "\n",
       "    .dataframe tbody tr th {\n",
       "        vertical-align: top;\n",
       "    }\n",
       "\n",
       "    .dataframe thead th {\n",
       "        text-align: right;\n",
       "    }\n",
       "</style>\n",
       "<table border=\"1\" class=\"dataframe\">\n",
       "  <thead>\n",
       "    <tr style=\"text-align: right;\">\n",
       "      <th></th>\n",
       "      <th>rank</th>\n",
       "      <th>discipline</th>\n",
       "      <th>yrs.since.phd</th>\n",
       "      <th>yrs.service</th>\n",
       "      <th>sex</th>\n",
       "      <th>salary</th>\n",
       "    </tr>\n",
       "  </thead>\n",
       "  <tbody>\n",
       "    <tr>\n",
       "      <th>0</th>\n",
       "      <td>Prof</td>\n",
       "      <td>B</td>\n",
       "      <td>19</td>\n",
       "      <td>18</td>\n",
       "      <td>Male</td>\n",
       "      <td>139750</td>\n",
       "    </tr>\n",
       "    <tr>\n",
       "      <th>1</th>\n",
       "      <td>Prof</td>\n",
       "      <td>B</td>\n",
       "      <td>20</td>\n",
       "      <td>16</td>\n",
       "      <td>Male</td>\n",
       "      <td>173200</td>\n",
       "    </tr>\n",
       "    <tr>\n",
       "      <th>2</th>\n",
       "      <td>AsstProf</td>\n",
       "      <td>B</td>\n",
       "      <td>4</td>\n",
       "      <td>3</td>\n",
       "      <td>Male</td>\n",
       "      <td>79750</td>\n",
       "    </tr>\n",
       "    <tr>\n",
       "      <th>3</th>\n",
       "      <td>Prof</td>\n",
       "      <td>B</td>\n",
       "      <td>45</td>\n",
       "      <td>39</td>\n",
       "      <td>Male</td>\n",
       "      <td>115000</td>\n",
       "    </tr>\n",
       "    <tr>\n",
       "      <th>4</th>\n",
       "      <td>Prof</td>\n",
       "      <td>B</td>\n",
       "      <td>40</td>\n",
       "      <td>41</td>\n",
       "      <td>Male</td>\n",
       "      <td>141500</td>\n",
       "    </tr>\n",
       "    <tr>\n",
       "      <th>5</th>\n",
       "      <td>AssocProf</td>\n",
       "      <td>B</td>\n",
       "      <td>6</td>\n",
       "      <td>6</td>\n",
       "      <td>Male</td>\n",
       "      <td>97000</td>\n",
       "    </tr>\n",
       "    <tr>\n",
       "      <th>6</th>\n",
       "      <td>Prof</td>\n",
       "      <td>B</td>\n",
       "      <td>30</td>\n",
       "      <td>23</td>\n",
       "      <td>Male</td>\n",
       "      <td>175000</td>\n",
       "    </tr>\n",
       "    <tr>\n",
       "      <th>7</th>\n",
       "      <td>Prof</td>\n",
       "      <td>B</td>\n",
       "      <td>45</td>\n",
       "      <td>45</td>\n",
       "      <td>Male</td>\n",
       "      <td>147765</td>\n",
       "    </tr>\n",
       "    <tr>\n",
       "      <th>8</th>\n",
       "      <td>Prof</td>\n",
       "      <td>B</td>\n",
       "      <td>21</td>\n",
       "      <td>20</td>\n",
       "      <td>Male</td>\n",
       "      <td>119250</td>\n",
       "    </tr>\n",
       "    <tr>\n",
       "      <th>9</th>\n",
       "      <td>Prof</td>\n",
       "      <td>B</td>\n",
       "      <td>18</td>\n",
       "      <td>18</td>\n",
       "      <td>Female</td>\n",
       "      <td>129000</td>\n",
       "    </tr>\n",
       "  </tbody>\n",
       "</table>\n",
       "</div>"
      ],
      "text/plain": [
       "        rank discipline  yrs.since.phd  yrs.service     sex  salary\n",
       "0       Prof          B             19           18    Male  139750\n",
       "1       Prof          B             20           16    Male  173200\n",
       "2   AsstProf          B              4            3    Male   79750\n",
       "3       Prof          B             45           39    Male  115000\n",
       "4       Prof          B             40           41    Male  141500\n",
       "5  AssocProf          B              6            6    Male   97000\n",
       "6       Prof          B             30           23    Male  175000\n",
       "7       Prof          B             45           45    Male  147765\n",
       "8       Prof          B             21           20    Male  119250\n",
       "9       Prof          B             18           18  Female  129000"
      ]
     },
     "execution_count": 11,
     "metadata": {},
     "output_type": "execute_result"
    }
   ],
   "source": [
    "dataset.head(10)"
   ]
  },
  {
   "cell_type": "code",
   "execution_count": 12,
   "id": "e3118af7",
   "metadata": {},
   "outputs": [
    {
     "data": {
      "text/plain": [
       "(397, 6)"
      ]
     },
     "execution_count": 12,
     "metadata": {},
     "output_type": "execute_result"
    }
   ],
   "source": [
    "dataset.shape"
   ]
  },
  {
   "cell_type": "code",
   "execution_count": 13,
   "id": "defbb54f",
   "metadata": {},
   "outputs": [
    {
     "data": {
      "text/html": [
       "<div>\n",
       "<style scoped>\n",
       "    .dataframe tbody tr th:only-of-type {\n",
       "        vertical-align: middle;\n",
       "    }\n",
       "\n",
       "    .dataframe tbody tr th {\n",
       "        vertical-align: top;\n",
       "    }\n",
       "\n",
       "    .dataframe thead th {\n",
       "        text-align: right;\n",
       "    }\n",
       "</style>\n",
       "<table border=\"1\" class=\"dataframe\">\n",
       "  <thead>\n",
       "    <tr style=\"text-align: right;\">\n",
       "      <th></th>\n",
       "      <th>yrs.since.phd</th>\n",
       "      <th>yrs.service</th>\n",
       "      <th>salary</th>\n",
       "    </tr>\n",
       "  </thead>\n",
       "  <tbody>\n",
       "    <tr>\n",
       "      <th>count</th>\n",
       "      <td>397.000000</td>\n",
       "      <td>397.000000</td>\n",
       "      <td>397.000000</td>\n",
       "    </tr>\n",
       "    <tr>\n",
       "      <th>mean</th>\n",
       "      <td>22.314861</td>\n",
       "      <td>17.614610</td>\n",
       "      <td>113706.458438</td>\n",
       "    </tr>\n",
       "    <tr>\n",
       "      <th>std</th>\n",
       "      <td>12.887003</td>\n",
       "      <td>13.006024</td>\n",
       "      <td>30289.038695</td>\n",
       "    </tr>\n",
       "    <tr>\n",
       "      <th>min</th>\n",
       "      <td>1.000000</td>\n",
       "      <td>0.000000</td>\n",
       "      <td>57800.000000</td>\n",
       "    </tr>\n",
       "    <tr>\n",
       "      <th>25%</th>\n",
       "      <td>12.000000</td>\n",
       "      <td>7.000000</td>\n",
       "      <td>91000.000000</td>\n",
       "    </tr>\n",
       "    <tr>\n",
       "      <th>50%</th>\n",
       "      <td>21.000000</td>\n",
       "      <td>16.000000</td>\n",
       "      <td>107300.000000</td>\n",
       "    </tr>\n",
       "    <tr>\n",
       "      <th>75%</th>\n",
       "      <td>32.000000</td>\n",
       "      <td>27.000000</td>\n",
       "      <td>134185.000000</td>\n",
       "    </tr>\n",
       "    <tr>\n",
       "      <th>max</th>\n",
       "      <td>56.000000</td>\n",
       "      <td>60.000000</td>\n",
       "      <td>231545.000000</td>\n",
       "    </tr>\n",
       "  </tbody>\n",
       "</table>\n",
       "</div>"
      ],
      "text/plain": [
       "       yrs.since.phd  yrs.service         salary\n",
       "count     397.000000   397.000000     397.000000\n",
       "mean       22.314861    17.614610  113706.458438\n",
       "std        12.887003    13.006024   30289.038695\n",
       "min         1.000000     0.000000   57800.000000\n",
       "25%        12.000000     7.000000   91000.000000\n",
       "50%        21.000000    16.000000  107300.000000\n",
       "75%        32.000000    27.000000  134185.000000\n",
       "max        56.000000    60.000000  231545.000000"
      ]
     },
     "execution_count": 13,
     "metadata": {},
     "output_type": "execute_result"
    }
   ],
   "source": [
    "dataset.describe()"
   ]
  },
  {
   "cell_type": "code",
   "execution_count": 14,
   "id": "1537c2b2",
   "metadata": {},
   "outputs": [
    {
     "data": {
      "text/plain": [
       "rank             False\n",
       "discipline       False\n",
       "yrs.since.phd    False\n",
       "yrs.service      False\n",
       "sex              False\n",
       "salary           False\n",
       "dtype: bool"
      ]
     },
     "execution_count": 14,
     "metadata": {},
     "output_type": "execute_result"
    }
   ],
   "source": [
    "dataset.isnull().any()"
   ]
  },
  {
   "cell_type": "code",
   "execution_count": 15,
   "id": "69ba63d2",
   "metadata": {},
   "outputs": [
    {
     "name": "stdout",
     "output_type": "stream",
     "text": [
      "<class 'pandas.core.frame.DataFrame'>\n",
      "RangeIndex: 397 entries, 0 to 396\n",
      "Data columns (total 6 columns):\n",
      " #   Column         Non-Null Count  Dtype \n",
      "---  ------         --------------  ----- \n",
      " 0   rank           397 non-null    object\n",
      " 1   discipline     397 non-null    object\n",
      " 2   yrs.since.phd  397 non-null    int64 \n",
      " 3   yrs.service    397 non-null    int64 \n",
      " 4   sex            397 non-null    object\n",
      " 5   salary         397 non-null    int64 \n",
      "dtypes: int64(3), object(3)\n",
      "memory usage: 18.7+ KB\n"
     ]
    }
   ],
   "source": [
    "dataset.info()"
   ]
  },
  {
   "cell_type": "code",
   "execution_count": 16,
   "id": "8555f91b",
   "metadata": {},
   "outputs": [
    {
     "data": {
      "text/plain": [
       "<AxesSubplot:xlabel='yrs.service', ylabel='salary'>"
      ]
     },
     "execution_count": 16,
     "metadata": {},
     "output_type": "execute_result"
    },
    {
     "data": {
      "image/png": "[encoded data removed]",
      "text/plain": [
       "<Figure size 1152x576 with 2 Axes>"
      ]
     },
     "metadata": {
      "needs_background": "light"
     },
     "output_type": "display_data"
    }
   ],
   "source": [
    "fig,axs=plt.subplots(1,2)\n",
    "#dataset.plot(kind='scatter',x='rank',y='salary',ax=axs[0],figsize=(16,8))\n",
    "#dataset.plot(kind='scatter',x='discipline',y='salary',ax=axs[1])\n",
    "dataset.plot(kind='scatter',x='yrs.since.phd',y='salary',ax=axs[0],figsize=(16,8))\n",
    "dataset.plot(kind='scatter',x='yrs.service',y='salary',ax=axs[1])\n",
    "#dataset.plot(kind='scatter',x='sex',y='salary',ax=axs[4])"
   ]
  },
  {
   "cell_type": "code",
   "execution_count": 48,
   "id": "4463301b",
   "metadata": {},
   "outputs": [
    {
     "data": {
      "text/plain": [
       "array([19, 20,  4, 45, 40,  6, 30, 45, 21, 18, 12,  7,  1,  2, 20, 12, 19,\n",
       "       38, 37, 39, 31, 36, 34, 24, 13, 21, 35,  5, 11, 12, 20,  7, 13,  4,\n",
       "        4,  5, 22,  7, 41,  9, 23, 23, 40, 38, 19, 25, 40, 23, 25,  1, 28,\n",
       "       12, 11, 16, 12, 14, 23,  9, 10,  8,  9,  3, 33, 11,  4,  9, 22, 35,\n",
       "       17, 28, 17, 45, 29, 35, 28,  8, 17, 26,  3,  6, 43, 17, 22,  6, 17,\n",
       "       15, 37,  2, 25,  9, 10, 10, 10, 38, 21,  4, 17, 13, 30, 41, 42, 28,\n",
       "       16, 20, 18, 31, 11, 10, 15, 40, 20, 19,  3, 37, 12, 21, 30, 39,  4,\n",
       "        5, 14, 32, 24, 25, 24, 54, 28,  2, 32,  4, 11, 56, 10,  3, 35, 20,\n",
       "       16, 17, 10, 21, 14, 15, 19,  3, 27, 28,  4, 27, 36,  4, 14,  4, 21,\n",
       "       12,  4, 21, 12,  1,  6, 15,  2, 26, 22,  3,  1, 21, 16, 18,  8, 25,\n",
       "        5, 19, 37, 20, 17, 28, 10, 13, 27,  3, 11, 18,  8, 26, 23, 33, 13,\n",
       "       18, 28, 25, 22, 43, 19, 19, 48,  9,  4,  4, 34, 38,  4, 40, 28, 17,\n",
       "       19, 21, 35, 18,  7, 20,  4, 39, 15, 26, 11, 16, 15, 29, 14, 13, 21,\n",
       "       23, 13, 34, 38, 20,  3,  9, 16, 39, 29, 26, 38, 36,  8, 28, 25,  7,\n",
       "       46, 19,  5, 31, 38, 23, 19, 17, 30, 21, 28, 29, 39, 20, 31,  4, 28,\n",
       "       12, 22, 30,  9, 32, 41, 45, 31, 31, 37, 36, 43, 14, 47, 13, 42, 42,\n",
       "        4,  8,  8, 12, 52, 31, 24, 46, 39, 37, 51, 45,  8, 49, 28,  2, 29,\n",
       "        8, 33, 32, 39, 11, 19, 40, 18, 17, 49, 45, 39, 27, 28, 14, 46, 33,\n",
       "        7, 31,  5, 22, 20, 14, 29, 35, 22,  6, 12, 46, 16, 16, 24,  9, 13,\n",
       "       24, 30,  8, 23, 37, 10, 23, 49, 20, 18, 33, 19, 36, 35, 13, 32, 37,\n",
       "       13, 17, 38, 31, 32, 15, 41, 39,  4, 27, 56, 38, 26, 22,  8, 25, 49,\n",
       "       39, 28, 11, 14, 23, 30, 20, 43, 43, 15, 10, 35, 33, 13, 23, 12, 30,\n",
       "       27, 28,  4,  6, 38, 11,  8, 27,  8, 44, 27, 15, 29, 29, 38, 33, 40,\n",
       "       30, 33, 31, 42, 25,  8], dtype=int64)"
      ]
     },
     "execution_count": 48,
     "metadata": {},
     "output_type": "execute_result"
    }
   ],
   "source": [
    "x=dataset.iloc[:,2].values\n",
    "x"
   ]
  },
  {
   "cell_type": "code",
   "execution_count": 49,
   "id": "679ae04a",
   "metadata": {},
   "outputs": [
    {
     "data": {
      "text/plain": [
       "array([139750, 173200,  79750, 115000, 141500,  97000, 175000, 147765,\n",
       "       119250, 129000, 119800,  79800,  77700,  78000, 104800, 117150,\n",
       "       101000, 103450, 124750, 137000,  89565, 102580,  93904, 113068,\n",
       "        74830, 106294, 134885,  82379,  77000, 118223, 132261,  79916,\n",
       "       117256,  80225,  80225,  77000, 155750,  86373, 125196, 100938,\n",
       "       146500,  93418, 101299, 231545,  94384, 114778,  98193, 151768,\n",
       "       140096,  70768, 126621, 108875,  74692, 106639, 103760,  83900,\n",
       "       117704,  90215, 100135,  75044,  90304,  75243, 109785, 103613,\n",
       "        68404, 100522, 101000,  99418, 111512,  91412, 126320, 146856,\n",
       "       100131,  92391, 113398,  73266, 150480, 193000,  86100,  84240,\n",
       "       150743, 135585, 144640,  88825, 122960, 132825, 152708,  88400,\n",
       "       172272, 107008,  97032, 105128, 105631, 166024, 123683,  84000,\n",
       "        95611, 129676, 102235, 106689, 133217, 126933, 153303, 127512,\n",
       "        83850, 113543,  82099,  82600,  81500, 131205, 112429,  82100,\n",
       "        72500, 104279, 105000, 120806, 148500, 117515,  72500,  73500,\n",
       "       115313, 124309,  97262,  62884,  96614,  78162, 155500,  72500,\n",
       "       113278,  73000,  83001,  76840,  77500,  72500, 168635, 136000,\n",
       "       108262, 105668,  73877, 152664, 100102,  81500, 106608,  89942,\n",
       "       112696, 119015,  92000, 156938, 144651,  95079, 128148,  92000,\n",
       "       111168, 103994,  92000, 118971, 113341,  88000,  95408, 137167,\n",
       "        89516, 176500,  98510,  89942,  88795, 105890, 167284, 130664,\n",
       "       101210, 181257,  91227, 151575,  93164, 134185, 105000, 111751,\n",
       "        95436, 100944, 147349,  92000, 142467, 141136, 100000, 150000,\n",
       "       101000, 134000, 103750, 107500, 106300, 153750, 180000, 133700,\n",
       "       122100,  86250,  90000, 113600,  92700,  92000, 189409, 114500,\n",
       "        92700, 119700, 160400, 152500, 165000,  96545, 162200, 120000,\n",
       "        91300, 163200,  91000, 111350, 128400, 126200, 118700, 145350,\n",
       "       146000, 105350, 109650, 119500, 170000, 145200, 107150, 129600,\n",
       "        87800, 122400,  63900,  70000,  88175, 133900,  91000,  73300,\n",
       "       148750, 117555,  69700,  81700, 114000,  63100,  77202,  96200,\n",
       "        69200, 122875, 102600, 108200,  84273,  90450,  91100, 101100,\n",
       "       128800, 204000, 109000, 102000, 132000,  77500, 116450,  83000,\n",
       "       140300,  74000,  73800,  92550,  88600, 107550, 121200, 126000,\n",
       "        99000, 134800, 143940, 104350,  89650, 103700, 143250, 194800,\n",
       "        73000,  74000,  78500,  93000, 107200, 163200, 107100, 100600,\n",
       "       136500, 103600,  57800, 155865,  88650,  81800, 115800,  85000,\n",
       "       150500,  74000, 174500, 168500, 183800, 104800, 107300,  97150,\n",
       "       126300, 148800,  72300,  70700,  88600, 127100, 170500, 105260,\n",
       "       144050, 111350,  74500, 122500,  74000, 166800,  92050, 108100,\n",
       "        94350, 100351, 146800,  84716,  71065,  67559, 134550, 135027,\n",
       "       104428,  95642, 126431, 161101, 162221,  84500, 124714, 151650,\n",
       "        99247, 134778, 192253, 116518, 105450, 145098, 104542, 151445,\n",
       "        98053, 145000, 128464, 137317, 106231, 124312, 114596, 162150,\n",
       "       150376, 107986, 142023, 128250,  80139, 144309, 186960,  93519,\n",
       "       142500, 138000,  83600, 145028,  88709, 107309, 109954,  78785,\n",
       "       121946, 109646, 138771,  81285, 205500, 101036, 115435, 108413,\n",
       "       131950, 134690,  78182, 110515, 109707, 136660, 103275, 103649,\n",
       "        74856,  77081, 150680, 104121,  75996, 172505,  86895, 105000,\n",
       "       125192, 114330, 139219, 109305, 119450, 186023, 166605, 151292,\n",
       "       103106, 150564, 101738,  95329,  81035], dtype=int64)"
      ]
     },
     "execution_count": 49,
     "metadata": {},
     "output_type": "execute_result"
    }
   ],
   "source": [
    "y=dataset.iloc[:,5].values\n",
    "y"
   ]
  },
  {
   "cell_type": "code",
   "execution_count": 50,
   "id": "21976974",
   "metadata": {},
   "outputs": [],
   "source": [
    "x_train,x_test,y_train,y_test=train_test_split(x,y,test_size=1/3,random_state=1001)"
   ]
  },
  {
   "cell_type": "code",
   "execution_count": 51,
   "id": "58410a45",
   "metadata": {},
   "outputs": [
    {
     "data": {
      "text/plain": [
       "133"
      ]
     },
     "execution_count": 51,
     "metadata": {},
     "output_type": "execute_result"
    }
   ],
   "source": [
    "x_test.size"
   ]
  },
  {
   "cell_type": "code",
   "execution_count": 52,
   "id": "f46ecbdc",
   "metadata": {},
   "outputs": [],
   "source": [
    "LR = LinearRegression()"
   ]
  },
  {
   "cell_type": "code",
   "execution_count": 53,
   "id": "36e7a4ae",
   "metadata": {},
   "outputs": [
    {
     "data": {
      "text/plain": [
       "LinearRegression()"
      ]
     },
     "execution_count": 53,
     "metadata": {},
     "output_type": "execute_result"
    }
   ],
   "source": [
    "LR.fit(x_train.reshape(-1, 1),y_train)"
   ]
  },
  {
   "cell_type": "code",
   "execution_count": 54,
   "id": "80f44d9e",
   "metadata": {},
   "outputs": [
    {
     "data": {
      "text/plain": [
       "array([133304.05424176,  96303.30110315, 122593.30991216, 114803.67767246,\n",
       "        96303.30110315, 120645.90185224, 101171.82125297, 126488.12603202,\n",
       "       100198.117223  ,  96303.30110315, 130382.94215187, 126488.12603202,\n",
       "       136225.16633165, 100198.117223  , 137198.87036161, 102145.52528293,\n",
       "        96303.30110315, 104092.93334286, 100198.117223  ,  96303.30110315,\n",
       "       117724.78976235, 136225.16633165, 107987.74946271, 113829.97364249,\n",
       "       119672.19782227, 122593.30991216, 107014.04543275, 119672.19782227,\n",
       "       106040.34140278,  95329.59707319, 137198.87036161, 106040.34140278,\n",
       "       129409.23812191, 111882.56558256, 107987.74946271, 129409.23812191,\n",
       "       106040.34140278, 104092.93334286, 114803.67767246, 105066.63737282,\n",
       "       103119.22931289, 107014.04543275, 101171.82125297, 117724.78976235,\n",
       "       114803.67767246, 104092.93334286, 109935.15752264, 105066.63737282,\n",
       "       124540.71797209, 105066.63737282, 118698.49379231, 104092.93334286,\n",
       "       106040.34140278,  96303.30110315, 100198.117223  , 105066.63737282,\n",
       "       114803.67767246, 119672.19782227, 100198.117223  , 110908.8615526 ,\n",
       "       107987.74946271, 119672.19782227, 103119.22931289, 123567.01394213,\n",
       "       137198.87036161, 102145.52528293, 122593.30991216, 127461.83006198,\n",
       "       124540.71797209, 121619.6058822 , 129409.23812191, 120645.90185224,\n",
       "       129409.23812191, 103119.22931289, 110908.8615526 , 127461.83006198,\n",
       "        93382.18901326, 102145.52528293, 122593.30991216,  95329.59707319,\n",
       "        99224.41319304, 118698.49379231, 108961.45349267, 114803.67767246,\n",
       "       134277.75827172, 105066.63737282, 146935.91066125, 113829.97364249,\n",
       "       114803.67767246, 115777.38170242, 113829.97364249, 108961.45349267,\n",
       "       100198.117223  , 103119.22931289, 116751.08573238,  96303.30110315,\n",
       "       112856.26961253, 115777.38170242, 119672.19782227, 113829.97364249,\n",
       "       131356.64618183, 107987.74946271, 101171.82125297, 119672.19782227,\n",
       "       112856.26961253, 119672.19782227, 101171.82125297, 117724.78976235,\n",
       "       131356.64618183, 100198.117223  , 108961.45349267, 124540.71797209,\n",
       "       134277.75827172, 107987.74946271, 111882.56558256, 114803.67767246,\n",
       "       124540.71797209, 126488.12603202, 110908.8615526 , 122593.30991216,\n",
       "       105066.63737282, 138172.57439158, 121619.6058822 ,  94355.89304322,\n",
       "        96303.30110315, 132330.3502118 , 100198.117223  , 127461.83006198,\n",
       "       110908.8615526 ,  97277.00513311, 107014.04543275,  95329.59707319,\n",
       "        95329.59707319])"
      ]
     },
     "execution_count": 54,
     "metadata": {},
     "output_type": "execute_result"
    }
   ],
   "source": [
    "y_pred_lr=LR.predict(x_test.reshape(-1, 1))\n",
    "y_pred_lr"
   ]
  },
  {
   "cell_type": "code",
   "execution_count": 55,
   "id": "35e0dcdd",
   "metadata": {},
   "outputs": [
    {
     "data": {
      "text/plain": [
       "array([101738,  92700, 126000, 108200,  73000, 139219,  90215, 100351,\n",
       "        73266,  80225, 137000, 168635, 146856,  83600, 144050,  99247,\n",
       "        92000,  71065,  84500,  74856, 150000, 115000, 167284,  98510,\n",
       "       103649, 132000, 137167, 160400,  83900,  89942, 100600, 109650,\n",
       "        87800, 102000, 135027, 231545, 104350, 117150, 117704, 103700,\n",
       "        83001, 146000, 100938, 176500, 124714, 108875, 126300, 126431,\n",
       "       186023, 107150, 103275,  93000, 128148,  91000,  75996, 106231,\n",
       "        93418, 126933,  75044,  96200, 153303, 111751, 104800, 113278,\n",
       "        67559, 105631, 113543, 117555, 145098,  74000, 114596,  94350,\n",
       "       114500,  77000, 101000, 151445,  70768, 108413, 122500,  72500,\n",
       "        74500, 112696, 135585, 110515, 150743, 145000,  76840, 144640,\n",
       "       134778, 113068, 146800, 152500,  88650, 103613,  95329,  73000,\n",
       "       101100,  97262, 119015, 140300, 166605, 145350, 107008, 109954,\n",
       "       170000,  91412, 100522,  73300, 101299,  69700, 126320, 134690,\n",
       "       143940, 106639, 136000, 101000, 109785,  99418, 139750, 162150,\n",
       "       100944,  89650,  91100,  78000,  68404, 142023,  81035, 134800,\n",
       "        94384,  77000, 132825,  75243,  63900], dtype=int64)"
      ]
     },
     "execution_count": 55,
     "metadata": {},
     "output_type": "execute_result"
    }
   ],
   "source": [
    "y_test"
   ]
  },
  {
   "cell_type": "code",
   "execution_count": 56,
   "id": "6d49a772",
   "metadata": {},
   "outputs": [],
   "source": [
    "diff_lr = y_test-y_pred_lr"
   ]
  },
  {
   "cell_type": "code",
   "execution_count": 57,
   "id": "7f105b00",
   "metadata": {},
   "outputs": [
    {
     "data": {
      "text/html": [
       "<div>\n",
       "<style scoped>\n",
       "    .dataframe tbody tr th:only-of-type {\n",
       "        vertical-align: middle;\n",
       "    }\n",
       "\n",
       "    .dataframe tbody tr th {\n",
       "        vertical-align: top;\n",
       "    }\n",
       "\n",
       "    .dataframe thead th {\n",
       "        text-align: right;\n",
       "    }\n",
       "</style>\n",
       "<table border=\"1\" class=\"dataframe\">\n",
       "  <thead>\n",
       "    <tr style=\"text-align: right;\">\n",
       "      <th></th>\n",
       "      <th>Prediction</th>\n",
       "      <th>Original data</th>\n",
       "      <th>Difference</th>\n",
       "    </tr>\n",
       "  </thead>\n",
       "  <tbody>\n",
       "    <tr>\n",
       "      <th>0</th>\n",
       "      <td>133304.054242</td>\n",
       "      <td>101738</td>\n",
       "      <td>-31566.054242</td>\n",
       "    </tr>\n",
       "    <tr>\n",
       "      <th>1</th>\n",
       "      <td>96303.301103</td>\n",
       "      <td>92700</td>\n",
       "      <td>-3603.301103</td>\n",
       "    </tr>\n",
       "    <tr>\n",
       "      <th>2</th>\n",
       "      <td>122593.309912</td>\n",
       "      <td>126000</td>\n",
       "      <td>3406.690088</td>\n",
       "    </tr>\n",
       "    <tr>\n",
       "      <th>3</th>\n",
       "      <td>114803.677672</td>\n",
       "      <td>108200</td>\n",
       "      <td>-6603.677672</td>\n",
       "    </tr>\n",
       "    <tr>\n",
       "      <th>4</th>\n",
       "      <td>96303.301103</td>\n",
       "      <td>73000</td>\n",
       "      <td>-23303.301103</td>\n",
       "    </tr>\n",
       "    <tr>\n",
       "      <th>...</th>\n",
       "      <td>...</td>\n",
       "      <td>...</td>\n",
       "      <td>...</td>\n",
       "    </tr>\n",
       "    <tr>\n",
       "      <th>128</th>\n",
       "      <td>110908.861553</td>\n",
       "      <td>94384</td>\n",
       "      <td>-16524.861553</td>\n",
       "    </tr>\n",
       "    <tr>\n",
       "      <th>129</th>\n",
       "      <td>97277.005133</td>\n",
       "      <td>77000</td>\n",
       "      <td>-20277.005133</td>\n",
       "    </tr>\n",
       "    <tr>\n",
       "      <th>130</th>\n",
       "      <td>107014.045433</td>\n",
       "      <td>132825</td>\n",
       "      <td>25810.954567</td>\n",
       "    </tr>\n",
       "    <tr>\n",
       "      <th>131</th>\n",
       "      <td>95329.597073</td>\n",
       "      <td>75243</td>\n",
       "      <td>-20086.597073</td>\n",
       "    </tr>\n",
       "    <tr>\n",
       "      <th>132</th>\n",
       "      <td>95329.597073</td>\n",
       "      <td>63900</td>\n",
       "      <td>-31429.597073</td>\n",
       "    </tr>\n",
       "  </tbody>\n",
       "</table>\n",
       "<p>133 rows × 3 columns</p>\n",
       "</div>"
      ],
      "text/plain": [
       "        Prediction  Original data    Difference\n",
       "0    133304.054242         101738 -31566.054242\n",
       "1     96303.301103          92700  -3603.301103\n",
       "2    122593.309912         126000   3406.690088\n",
       "3    114803.677672         108200  -6603.677672\n",
       "4     96303.301103          73000 -23303.301103\n",
       "..             ...            ...           ...\n",
       "128  110908.861553          94384 -16524.861553\n",
       "129   97277.005133          77000 -20277.005133\n",
       "130  107014.045433         132825  25810.954567\n",
       "131   95329.597073          75243 -20086.597073\n",
       "132   95329.597073          63900 -31429.597073\n",
       "\n",
       "[133 rows x 3 columns]"
      ]
     },
     "execution_count": 57,
     "metadata": {},
     "output_type": "execute_result"
    }
   ],
   "source": [
    "res_diff=pd.concat([pd.Series(y_pred_lr),pd.Series(y_test),pd.Series(diff_lr)],axis=1)\n",
    "res_diff.columns=['Prediction','Original data','Difference']\n",
    "res_diff"
   ]
  },
  {
   "cell_type": "code",
   "execution_count": 58,
   "id": "bed469f3",
   "metadata": {},
   "outputs": [
    {
     "data": {
      "image/png": "[encoded data removed]",
      "text/plain": [
       "<Figure size 432x288 with 1 Axes>"
      ]
     },
     "metadata": {
      "needs_background": "light"
     },
     "output_type": "display_data"
    }
   ],
   "source": [
    "plt.scatter(x_train,y_train,color='blue')\n",
    "plt.plot(x_train,LR.predict(x_train.reshape(-1, 1)),color='red')\n",
    "plt.title(\"Salary Vs Experience [training set]\")\n",
    "plt.xlabel(\"Years of Experience\")\n",
    "plt.ylabel(\"Salary\")\n",
    "plt.show()\n"
   ]
  },
  {
   "cell_type": "code",
   "execution_count": 59,
   "id": "f3b339a9",
   "metadata": {},
   "outputs": [
    {
     "data": {
      "image/png": "[encoded data removed]",
      "text/plain": [
       "<Figure size 432x288 with 1 Axes>"
      ]
     },
     "metadata": {
      "needs_background": "light"
     },
     "output_type": "display_data"
    }
   ],
   "source": [
    "plt.scatter(x_test,y_test,color='blue')\n",
    "plt.plot(x_train,LR.predict(x_train.reshape(-1, 1)),color='red')\n",
    "plt.title(\"Salary Vs Experience [Test set]\")\n",
    "plt.xlabel(\"Years of Experience\")\n",
    "plt.ylabel(\"Salary\")\n",
    "plt.show()"
   ]
  },
  {
   "cell_type": "code",
   "execution_count": 60,
   "id": "e8b50667",
   "metadata": {},
   "outputs": [
    {
     "data": {
      "text/plain": [
       "26732.580458041542"
      ]
     },
     "execution_count": 60,
     "metadata": {},
     "output_type": "execute_result"
    }
   ],
   "source": [
    "rmse=np.sqrt(metrics.mean_squared_error(y_test,y_pred_lr))\n",
    "rmse"
   ]
  },
  {
   "cell_type": "code",
   "execution_count": 61,
   "id": "3ad64fdb",
   "metadata": {},
   "outputs": [
    {
     "data": {
      "text/plain": [
       "0.1796399633197462"
      ]
     },
     "execution_count": 61,
     "metadata": {},
     "output_type": "execute_result"
    }
   ],
   "source": [
    "r2=metrics.r2_score(y_test,y_pred_lr)\n",
    "r2"
   ]
  },
  {
   "cell_type": "code",
   "execution_count": 65,
   "id": "268d8f1b",
   "metadata": {},
   "outputs": [
    {
     "data": {
      "text/plain": [
       "array([98250.70916308])"
      ]
     },
     "execution_count": 65,
     "metadata": {},
     "output_type": "execute_result"
    }
   ],
   "source": [
    "LR.predict([[6]])"
   ]
  },
  {
   "cell_type": "code",
   "execution_count": null,
   "id": "7064669a",
   "metadata": {},
   "outputs": [],
   "source": []
  }
 ],
 "metadata": {
  "kernelspec": {
   "display_name": "Python 3 (ipykernel)",
   "language": "python",
   "name": "python3"
  },
  "language_info": {
   "codemirror_mode": {
    "name": "ipython",
    "version": 3
   },
   "file_extension": ".py",
   "mimetype": "text/x-python",
   "name": "python",
   "nbconvert_exporter": "python",
   "pygments_lexer": "ipython3",
   "version": "3.9.7"
  }
 },
 "nbformat": 4,
 "nbformat_minor": 5
}
